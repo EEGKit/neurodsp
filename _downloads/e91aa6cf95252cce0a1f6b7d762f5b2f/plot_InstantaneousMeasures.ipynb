{
  "cells": [
    {
      "cell_type": "code",
      "execution_count": null,
      "metadata": {
        "collapsed": false
      },
      "outputs": [],
      "source": [
        "%matplotlib inline"
      ]
    },
    {
      "cell_type": "markdown",
      "metadata": {},
      "source": [
        "\nTime-frequency analysis\n=======================\n\nEstimate instantaneous measures of phase, amplitude, and frequency.\n\nThis tutorial primarily covers ``neurodsp.timefrequency``.\n"
      ]
    },
    {
      "cell_type": "code",
      "execution_count": null,
      "metadata": {
        "collapsed": false
      },
      "outputs": [],
      "source": [
        "import numpy as np\nimport matplotlib.pyplot as plt\n\nfrom neurodsp.utils import create_times\nfrom neurodsp.timefrequency import amp_by_time, freq_by_time, phase_by_time\nfrom neurodsp.plts.time_series import plot_time_series, plot_instantaneous_measure"
      ]
    },
    {
      "cell_type": "markdown",
      "metadata": {},
      "source": [
        "Load example neural signal\n--------------------------\n\nFirst, we will load an example neural signal to use for our time-frequency measures.\n\n\n"
      ]
    },
    {
      "cell_type": "code",
      "execution_count": null,
      "metadata": {
        "collapsed": false
      },
      "outputs": [],
      "source": [
        "# Load a neural signal, as well as a filtered version of the same signal\nsig = np.load('../data/sample_data_1.npy')\nsig_filt_true = np.load('../data/sample_data_1_filt.npy')\n\n# Set the sampling rate and create a times vector for the signal\nfs = 1000\ntimes = create_times(len(sig)/fs, fs)\n\n# Set the frequency range to be used\nf_range = (13, 30)"
      ]
    },
    {
      "cell_type": "markdown",
      "metadata": {},
      "source": [
        "Throughout this example, we will use\n:func:`~neurodsp.plts.time_series.plot_time_series` to plot time series, and\n:func:`~neurodsp.plts.time_series.plot_instantaneous_measure`\nto plot instantaneous measures.\n\n\n"
      ]
    },
    {
      "cell_type": "code",
      "execution_count": null,
      "metadata": {
        "collapsed": false
      },
      "outputs": [],
      "source": [
        "# Plot signal\nplot_time_series(times, sig)"
      ]
    },
    {
      "cell_type": "markdown",
      "metadata": {},
      "source": [
        "Instantaneous Phase\n-------------------\n\nInstantaneous phase is a measure of the phase of a signal, over time.\n\nInstantaneous phase can be analyzed with the\n:func:`~neurodsp.timefrequency.hilbert.phase_by_time` function.\n\n\n"
      ]
    },
    {
      "cell_type": "code",
      "execution_count": null,
      "metadata": {
        "collapsed": false
      },
      "outputs": [],
      "source": [
        "# Compute instaneous phase from a signal\npha = phase_by_time(sig, fs, f_range)"
      ]
    },
    {
      "cell_type": "code",
      "execution_count": null,
      "metadata": {
        "collapsed": false
      },
      "outputs": [],
      "source": [
        "# Plot example signal\n_, axs = plt.subplots(2, 1, figsize=(15, 6))\nplot_time_series(times, sig, xlim=[4, 5], xlabel=None, ax=axs[0])\nplot_instantaneous_measure(times, pha, xlim=[4, 5], ax=axs[1])"
      ]
    },
    {
      "cell_type": "markdown",
      "metadata": {},
      "source": [
        "Instantaneous Amplitude\n-----------------------\n\nInstantaneous amplitude is a measure of the amplitude of a signal, over time.\n\nInstantaneous amplitude can be analyzed with the\n:func:`~neurodsp.timefrequency.hilbert.amp_by_time` function.\n\n\n"
      ]
    },
    {
      "cell_type": "code",
      "execution_count": null,
      "metadata": {
        "collapsed": false
      },
      "outputs": [],
      "source": [
        "# Compute instantaneous amplitude from a signal\namp = amp_by_time(sig, fs, f_range)"
      ]
    },
    {
      "cell_type": "code",
      "execution_count": null,
      "metadata": {
        "collapsed": false
      },
      "outputs": [],
      "source": [
        "# Plot example signal\n_, axs = plt.subplots(2, 1, figsize=(15, 6))\nplot_instantaneous_measure(times, [sig, amp], 'amplitude',\n                           labels=['Raw Voltage', 'Amplitude'],\n                           xlim=[4, 5], xlabel=None, ax=axs[0])\nplot_instantaneous_measure(times, [sig_filt_true, amp], 'amplitude',\n                           labels=['Raw Voltage', 'Amplitude'], colors=['b', 'r'],\n                           xlim=[4, 5], ax=axs[1])"
      ]
    },
    {
      "cell_type": "markdown",
      "metadata": {},
      "source": [
        "Instantaneous Frequency\n-----------------------\n\nInstantaneous frequency is a measure of frequency across time.\n\nIt is measured as the temporal derivative of the instantaneous phase.\n\nInstantaneous frequency measures can exhibit abrupt shifts. Sometimes, a transform,\nsuch as applying a median filter, is used to make it smoother.\n\nFor example of this, see Samaha & Postle, 2015.\n\nInstantaneous frequency can be analyzed with the\n:func:`~neurodsp.timefrequency.hilbert.freq_by_time` function.\n\n\n"
      ]
    },
    {
      "cell_type": "code",
      "execution_count": null,
      "metadata": {
        "collapsed": false
      },
      "outputs": [],
      "source": [
        "# Compute instantaneous frequency from a signal\ni_f = freq_by_time(sig, fs, f_range)"
      ]
    },
    {
      "cell_type": "code",
      "execution_count": null,
      "metadata": {
        "collapsed": false
      },
      "outputs": [],
      "source": [
        "# Plot example signal\n_, axs = plt.subplots(3, 1, figsize=(15, 9))\nplot_time_series(times, sig, 'Raw Voltage', xlim=[4, 5], xlabel=None, ax=axs[0])\nplot_time_series(times, sig_filt_true,\n                 labels='Beta Filtered Voltage', colors='b',\n                 xlim=[4, 5], xlabel=None, ax=axs[1])\nplot_instantaneous_measure(times, i_f, 'frequency', colors='r',\n                           xlim=[4, 5], ylim=[10, 30], ax=axs[2])"
      ]
    },
    {
      "cell_type": "markdown",
      "metadata": {},
      "source": [
        "Sphinx settings:\nsphinx_gallery_thumbnail_number = 3\n\n\n"
      ]
    }
  ],
  "metadata": {
    "kernelspec": {
      "display_name": "Python 3",
      "language": "python",
      "name": "python3"
    },
    "language_info": {
      "codemirror_mode": {
        "name": "ipython",
        "version": 3
      },
      "file_extension": ".py",
      "mimetype": "text/x-python",
      "name": "python",
      "nbconvert_exporter": "python",
      "pygments_lexer": "ipython3",
      "version": "3.7.4"
    }
  },
  "nbformat": 4,
  "nbformat_minor": 0
}