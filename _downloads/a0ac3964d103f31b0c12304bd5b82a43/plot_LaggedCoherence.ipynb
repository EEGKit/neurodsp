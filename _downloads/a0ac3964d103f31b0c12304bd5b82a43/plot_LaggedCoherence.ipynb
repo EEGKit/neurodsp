{
  "cells": [
    {
      "cell_type": "code",
      "execution_count": null,
      "metadata": {
        "collapsed": false
      },
      "outputs": [],
      "source": [
        "%matplotlib inline"
      ]
    },
    {
      "cell_type": "markdown",
      "metadata": {},
      "source": [
        "\nLagged Coherence\n================\n\nCompute lagged coherence on neural signals.\n\nThis tutorial primarily covers ``neurodsp.rhythm.laggedcoherence``.\n"
      ]
    },
    {
      "cell_type": "markdown",
      "metadata": {},
      "source": [
        "Overview\n--------\n\nLagged coherence is a measure to quantify the rhythmicity of neural signals.\n\nFor more details on the lagged coherence measure see Fransen et al., 2015, Neuroimage.\n\n\n"
      ]
    },
    {
      "cell_type": "code",
      "execution_count": null,
      "metadata": {
        "collapsed": false
      },
      "outputs": [],
      "source": [
        "import numpy as np\n\nfrom neurodsp.rhythm import compute_lagged_coherence\nfrom neurodsp.utils import create_times\nfrom neurodsp.plts.time_series import plot_time_series\nfrom neurodsp.plts.rhythm import plot_lagged_coherence"
      ]
    },
    {
      "cell_type": "code",
      "execution_count": null,
      "metadata": {
        "collapsed": false
      },
      "outputs": [],
      "source": [
        "# Set the random seed, for consistency simulating data\nnp.random.seed(0)"
      ]
    },
    {
      "cell_type": "markdown",
      "metadata": {},
      "source": [
        "Simulate a Signal with a Bursty Oscillation\n-------------------------------------------\n\n\n"
      ]
    },
    {
      "cell_type": "code",
      "execution_count": null,
      "metadata": {
        "collapsed": false
      },
      "outputs": [],
      "source": [
        "# Parameters for simulated signal\nn_samples = 5000\nfs = 1000\nburst_freq = 10\nburst_starts = [0, 3000]\nburst_seconds = 1\nburst_samples = burst_seconds*fs"
      ]
    },
    {
      "cell_type": "code",
      "execution_count": null,
      "metadata": {
        "collapsed": false
      },
      "outputs": [],
      "source": [
        "# Design burst kernel\nburst_kernel_t = create_times(burst_seconds, fs)\nburst_kernel = 2*np.sin(burst_kernel_t*2*np.pi*burst_freq)\n\n# Generate random signal with bursts\ntimes = create_times(n_samples/fs, fs)\nsig = np.random.randn(n_samples)\nfor ind in burst_starts:\n    sig[ind:ind+burst_samples] += burst_kernel"
      ]
    },
    {
      "cell_type": "code",
      "execution_count": null,
      "metadata": {
        "collapsed": false
      },
      "outputs": [],
      "source": [
        "# Plot example signal\nplot_time_series(times, sig)"
      ]
    },
    {
      "cell_type": "markdown",
      "metadata": {},
      "source": [
        "Compute lagged coherence for an alpha oscillation\n-------------------------------------------------\n\nWe can compute lagged coherence with the\n:func:`~neurodsp.rhythm.lc.compute_lagged_coherence` function.\n\n\n"
      ]
    },
    {
      "cell_type": "code",
      "execution_count": null,
      "metadata": {
        "collapsed": false
      },
      "outputs": [],
      "source": [
        "# Set the frequency range to compute lagged coherence across\nf_range = (8, 12)\n\n# Compute lagged coherence\nlag_coh_alpha = compute_lagged_coherence(sig, fs, f_range)\n\n# Check the resulting value\nprint('Lagged coherence = ', lag_coh_alpha)"
      ]
    },
    {
      "cell_type": "markdown",
      "metadata": {},
      "source": [
        "Compute lagged coherence across the frequency spectrum\n------------------------------------------------------\n\nNotice that lagged coherence peaks around 10Hz (the frequency of our\noscillation), but it is not very specific to that frequency.\n\n\n"
      ]
    },
    {
      "cell_type": "code",
      "execution_count": null,
      "metadata": {
        "collapsed": false
      },
      "outputs": [],
      "source": [
        "# Calculate lagged coherence across a frequency range\nlag_coh_by_f, freqs = compute_lagged_coherence(sig, fs, (1, 40),\n                                               return_spectrum=True)"
      ]
    },
    {
      "cell_type": "markdown",
      "metadata": {},
      "source": [
        "You can plot the lagged coherence results with\n:func:`~neurodsp.plts.rhythm.plot_lagged_coherence`.\n\n\n"
      ]
    },
    {
      "cell_type": "code",
      "execution_count": null,
      "metadata": {
        "collapsed": false
      },
      "outputs": [],
      "source": [
        "# Visualize lagged coherence as a function of frequency\nplot_lagged_coherence(freqs, lag_coh_by_f)"
      ]
    },
    {
      "cell_type": "markdown",
      "metadata": {},
      "source": [
        "Compute lagged coherence for time segments with and without burst\n-----------------------------------------------------------------\n\nNote that lagged coherence is greater when analyzing a neural signal that has a burst in\nthe frequency range of interest, compared to a signal that does not have an oscillation.\n\n\n"
      ]
    },
    {
      "cell_type": "code",
      "execution_count": null,
      "metadata": {
        "collapsed": false
      },
      "outputs": [],
      "source": [
        "samp_burst = np.arange(1000)\nsamp_noburst = np.arange(1000, 2000)\n\nlag_coh_burst = compute_lagged_coherence(sig[samp_burst], fs, f_range)\nlag_coh_noburst = compute_lagged_coherence(sig[samp_noburst], fs, f_range)\n\nprint('Lagged coherence, bursting = ', lag_coh_burst)\nprint('Lagged coherence, not bursting = ', lag_coh_noburst)"
      ]
    },
    {
      "cell_type": "markdown",
      "metadata": {},
      "source": [
        "Compute lagged coherence of an example neural signal\n----------------------------------------------------\n\n\n"
      ]
    },
    {
      "cell_type": "code",
      "execution_count": null,
      "metadata": {
        "collapsed": false
      },
      "outputs": [],
      "source": [
        "# Load signal\nsig = np.load('../data/sample_data_1.npy')\nsig_filt_true = np.load('../data/sample_data_1_filt.npy')\nfs = 1000\n\ntimes = create_times(len(sig)/fs, fs)\nf_range = (13, 30)"
      ]
    },
    {
      "cell_type": "code",
      "execution_count": null,
      "metadata": {
        "collapsed": false
      },
      "outputs": [],
      "source": [
        "# Plot example signal\nplot_time_series(times, sig)"
      ]
    },
    {
      "cell_type": "code",
      "execution_count": null,
      "metadata": {
        "collapsed": false
      },
      "outputs": [],
      "source": [
        "f_range = (13, 30)\nlag_coh_beta = compute_lagged_coherence(sig, fs, f_range)\nprint('Lagged coherence = ', lag_coh_beta)"
      ]
    },
    {
      "cell_type": "markdown",
      "metadata": {},
      "source": [
        "Sphinx settings:\nsphinx_gallery_thumbnail_number = 2\n\n\n"
      ]
    }
  ],
  "metadata": {
    "kernelspec": {
      "display_name": "Python 3",
      "language": "python",
      "name": "python3"
    },
    "language_info": {
      "codemirror_mode": {
        "name": "ipython",
        "version": 3
      },
      "file_extension": ".py",
      "mimetype": "text/x-python",
      "name": "python",
      "nbconvert_exporter": "python",
      "pygments_lexer": "ipython3",
      "version": "3.7.4"
    }
  },
  "nbformat": 4,
  "nbformat_minor": 0
}