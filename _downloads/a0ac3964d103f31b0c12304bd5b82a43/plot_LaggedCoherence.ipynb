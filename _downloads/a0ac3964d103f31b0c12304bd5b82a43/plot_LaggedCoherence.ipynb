{
  "cells": [
    {
      "cell_type": "code",
      "execution_count": null,
      "metadata": {
        "collapsed": false
      },
      "outputs": [],
      "source": [
        "%matplotlib inline"
      ]
    },
    {
      "cell_type": "markdown",
      "metadata": {},
      "source": [
        "\n# Lagged Coherence\n\nCompute lagged coherence on neural signals.\n\nThis tutorial primarily covers the :func:`~.compute_lagged_coherence` function.\n"
      ]
    },
    {
      "cell_type": "markdown",
      "metadata": {},
      "source": [
        "## Overview\n\nLagged coherence is a measure to quantify the rhythmicity of neural signals.\n\nFor more details on the lagged coherence measure see Fransen et al., 2015, Neuroimage.\n\n\n"
      ]
    },
    {
      "cell_type": "code",
      "execution_count": null,
      "metadata": {
        "collapsed": false
      },
      "outputs": [],
      "source": [
        "import numpy as np\n\n# Import the lagged coherence function\nfrom neurodsp.rhythm import compute_lagged_coherence\n\n# Import simulation code for creating test data\nfrom neurodsp.sim import sim_powerlaw, sim_combined\nfrom neurodsp.utils import set_random_seed, create_times\n\n# Import utilities for loading and plotting data\nfrom neurodsp.utils.download import load_ndsp_data\nfrom neurodsp.plts.time_series import plot_time_series\nfrom neurodsp.plts.rhythm import plot_lagged_coherence"
      ]
    },
    {
      "cell_type": "code",
      "execution_count": null,
      "metadata": {
        "collapsed": false
      },
      "outputs": [],
      "source": [
        "# Set the random seed, for consistency simulating data\nset_random_seed(0)"
      ]
    },
    {
      "cell_type": "markdown",
      "metadata": {},
      "source": [
        "## Simulate an Example Signal\n\nFirst, we'll simulate an example signal that starts with a burst of alpha activity, followed\nby a period of only aperiodic activity.\n\n\n"
      ]
    },
    {
      "cell_type": "code",
      "execution_count": null,
      "metadata": {
        "collapsed": false
      },
      "outputs": [],
      "source": [
        "# Set time and sampling rate\nn_seconds_burst = 1\nn_seconds_noise = 2\nfs = 1000\n\n# Create a times vector\ntimes = create_times(n_seconds_burst + n_seconds_noise, fs)\n\n# Simulate a signal component with an oscillation\ncomponents = {'sim_powerlaw' : {'exponent' : 0},\n              'sim_oscillation' : {'freq' : 10}}\ns1 = sim_combined(n_seconds_burst, fs, components, [0.1, 1])\n\n# Simulate a signal component with just noise\ns2 = sim_powerlaw(n_seconds_noise, fs, 0, variance=0.1)\n\n# Join signals together to approximate a 'burst'\nsig = np.append(s1, s2)"
      ]
    },
    {
      "cell_type": "code",
      "execution_count": null,
      "metadata": {
        "collapsed": false
      },
      "outputs": [],
      "source": [
        "# Plot example signal\nplot_time_series(times, sig)"
      ]
    },
    {
      "cell_type": "markdown",
      "metadata": {},
      "source": [
        "## Compute lagged coherence for an alpha oscillation\n\nWe can compute lagged coherence with the :func:`~.compute_lagged_coherence` function.\n\n\n"
      ]
    },
    {
      "cell_type": "code",
      "execution_count": null,
      "metadata": {
        "collapsed": false
      },
      "outputs": [],
      "source": [
        "# Set the frequency range to compute lagged coherence across\nf_range = (8, 12)\n\n# Compute lagged coherence\nlag_coh_alpha = compute_lagged_coherence(sig, fs, f_range)\n\n# Check the resulting value\nprint('Lagged coherence = ', lag_coh_alpha)"
      ]
    },
    {
      "cell_type": "markdown",
      "metadata": {},
      "source": [
        "## Compute lagged coherence across the frequency spectrum\n\nNotice that lagged coherence peaks around 10Hz (the frequency of our oscillation).\n\nHowever, the peak is not very specific to that frequency.\n\n\n"
      ]
    },
    {
      "cell_type": "code",
      "execution_count": null,
      "metadata": {
        "collapsed": false
      },
      "outputs": [],
      "source": [
        "# Calculate lagged coherence across a frequency range\nlag_coh_by_f, freqs = compute_lagged_coherence(sig, fs, (5, 40),\n                                               return_spectrum=True)"
      ]
    },
    {
      "cell_type": "markdown",
      "metadata": {},
      "source": [
        "You can plot the lagged coherence results with :func:`~.plot_lagged_coherence`.\n\n\n"
      ]
    },
    {
      "cell_type": "code",
      "execution_count": null,
      "metadata": {
        "collapsed": false
      },
      "outputs": [],
      "source": [
        "# Visualize lagged coherence as a function of frequency\nplot_lagged_coherence(freqs, lag_coh_by_f)"
      ]
    },
    {
      "cell_type": "markdown",
      "metadata": {},
      "source": [
        "## Compute lagged coherence for time segments with and without burst\n\nNote that lagged coherence is greater when analyzing a neural signal that has a burst in\nthe frequency range of interest, compared to a signal that does not have an oscillation.\n\n\n"
      ]
    },
    {
      "cell_type": "code",
      "execution_count": null,
      "metadata": {
        "collapsed": false
      },
      "outputs": [],
      "source": [
        "# Calculate coherence for data with the burst - the 1st second of data\nlag_coh_burst = compute_lagged_coherence(sig[0:fs], fs, f_range)\n\n# Calculate coherence for data without the burst - the 2nd second of data\nlag_coh_noburst = compute_lagged_coherence(sig[fs:2*fs], fs, f_range)\n\nprint('Lagged coherence, bursting = ', lag_coh_burst)\nprint('Lagged coherence, not bursting = ', lag_coh_noburst)"
      ]
    },
    {
      "cell_type": "markdown",
      "metadata": {},
      "source": [
        "## Compute lagged coherence of an example neural signal\n\nNext, let's apply lagged coherence to some real data.\n\n\n"
      ]
    },
    {
      "cell_type": "code",
      "execution_count": null,
      "metadata": {
        "collapsed": false
      },
      "outputs": [],
      "source": [
        "# Download, if needed, and load example data files\nsig = load_ndsp_data('sample_data_1.npy', folder='data')\nsig_filt_true = load_ndsp_data('sample_data_1_filt.npy', folder='data')\n\n# Set sampling rate, and create a times vector for plotting\nfs = 1000\ntimes = create_times(len(sig)/fs, fs)"
      ]
    },
    {
      "cell_type": "code",
      "execution_count": null,
      "metadata": {
        "collapsed": false
      },
      "outputs": [],
      "source": [
        "# Plot example signal\nplot_time_series(times, sig)"
      ]
    },
    {
      "cell_type": "code",
      "execution_count": null,
      "metadata": {
        "collapsed": false
      },
      "outputs": [],
      "source": [
        "# Set the frequency range to compute lagged coherence across\nf_range = (13, 30)\n\n# Compute lagged coherence\nlag_coh_beta = compute_lagged_coherence(sig, fs, f_range)\n\n# Check lagged coherence result\nprint('Lagged coherence = ', lag_coh_beta)"
      ]
    }
  ],
  "metadata": {
    "kernelspec": {
      "display_name": "Python 3",
      "language": "python",
      "name": "python3"
    },
    "language_info": {
      "codemirror_mode": {
        "name": "ipython",
        "version": 3
      },
      "file_extension": ".py",
      "mimetype": "text/x-python",
      "name": "python",
      "nbconvert_exporter": "python",
      "pygments_lexer": "ipython3",
      "version": "3.8.5"
    }
  },
  "nbformat": 4,
  "nbformat_minor": 0
}