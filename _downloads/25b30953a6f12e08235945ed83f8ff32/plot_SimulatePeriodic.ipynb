{
  "cells": [
    {
      "cell_type": "code",
      "execution_count": null,
      "metadata": {
        "collapsed": false
      },
      "outputs": [],
      "source": [
        "%matplotlib inline"
      ]
    },
    {
      "cell_type": "markdown",
      "metadata": {},
      "source": [
        "\nSimulating Periodic Signals\n===========================\n\nSimulate periodic, or oscillatory, signals.\n\nThis tutorial covers the ``neurodsp.sim.periodic`` module.\n"
      ]
    },
    {
      "cell_type": "code",
      "execution_count": null,
      "metadata": {
        "collapsed": false
      },
      "outputs": [],
      "source": [
        "from neurodsp import sim, spectral\nfrom neurodsp.utils import create_times\n\nfrom neurodsp.plts.spectral import plot_power_spectra\nfrom neurodsp.plts.time_series import plot_time_series"
      ]
    },
    {
      "cell_type": "code",
      "execution_count": null,
      "metadata": {
        "collapsed": false
      },
      "outputs": [],
      "source": [
        "# Set the random seed, for consistency simulating data\nsim.set_random_seed(0)\n\n# Set some general settings, to be used across all simulations\nfs = 1000"
      ]
    },
    {
      "cell_type": "markdown",
      "metadata": {},
      "source": [
        "Simulate a Stationary Oscillation\n---------------------------------\n\nLet's start by simulating an oscillation. We'll start with a simple, sinusoidal, oscillation.\n\nContinuous peridic signals can be created with :func:`~neurodsp.sim.periodic.sim_oscillation`.\n\n\n"
      ]
    },
    {
      "cell_type": "code",
      "execution_count": null,
      "metadata": {
        "collapsed": false
      },
      "outputs": [],
      "source": [
        "# Simulation settings\nn_seconds = 1\nosc_freq = 6.6\n\n# Simulate a sinusoidal oscillation\nosc_sine = sim.sim_oscillation(n_seconds, fs, osc_freq, cycle='sine')\n\n# Create a times vector for our simulation\ntimes = create_times(n_seconds, fs)\n\n# Plot the simulated data, in the time domain\nplot_time_series(times, osc_sine)"
      ]
    },
    {
      "cell_type": "markdown",
      "metadata": {},
      "source": [
        "Cycle Kernels\n-------------\n\nTo simulate oscillations, we can use a sinusoidal kernel, as above, or any of a\nselection of other cycle kernels.\n\nDifferent kernels represent different shapes and properties that may be useful to\nsimulate different aspects of periodic neural activity.\n\nCycle kernel options include:\n\n- ``sine``: a sine wave cycle\n- ``asine``: an asymmetric sine wave\n- ``sawtooth``: a sawtooth wave\n- ``gaussian``: a gaussian cycle\n- ``exp``: a cycle with exponential decay\n- ``2exp``: a cycle with exponential rise and decay\n\nNote that these cycle kernels are all created with the\n:func:`~neurodsp.sim.transients.sim_cycle` function.\n\n\n"
      ]
    },
    {
      "cell_type": "markdown",
      "metadata": {},
      "source": [
        "Simulate a Shapely Oscillation\n------------------------------\n\nNext let's simulate an asymmetric oscillation, using the `asine` cycle kernel,\nwhich stands for 'asymmetric sinusoidal'.\n\nUsing the `asine` kernel, we can simulate arbitrary rise-decay symmetry of oscillations.\n\nWe'll plot it over our original sinusoidal oscillation, so we can compare them.\n\n\n"
      ]
    },
    {
      "cell_type": "code",
      "execution_count": null,
      "metadata": {
        "collapsed": false
      },
      "outputs": [],
      "source": [
        "# Simulate a shape-y oscillations\nosc_shape = sim.sim_oscillation(n_seconds, fs, osc_freq, cycle='asine', rdsym=.2)"
      ]
    },
    {
      "cell_type": "code",
      "execution_count": null,
      "metadata": {
        "collapsed": false
      },
      "outputs": [],
      "source": [
        "# Plot the simulated data, in the time domain\nplot_time_series(times, [osc_sine, osc_shape], ['rdsym='+str(.5), 'rdsym='+str(.3)])"
      ]
    },
    {
      "cell_type": "markdown",
      "metadata": {},
      "source": [
        "We can also compare these signals in the frequency.\n\nNotice that the asymmetric oscillation has strong harmonics resulting from the\nnon-sinusoidal nature of the oscillation.\n\n\n"
      ]
    },
    {
      "cell_type": "code",
      "execution_count": null,
      "metadata": {
        "collapsed": false
      },
      "outputs": [],
      "source": [
        "# Plot the simulated data, in the frequency domain\nfreqs_sine, psd_sine = spectral.compute_spectrum(osc_sine, fs)\nfreqs_shape, psd_shape = spectral.compute_spectrum(osc_shape, fs)\n\nplot_power_spectra([freqs_sine, freqs_shape], [psd_sine, psd_shape])"
      ]
    },
    {
      "cell_type": "markdown",
      "metadata": {},
      "source": [
        "Simulate a Bursty Oscillation\n-----------------------------\n\nSometimes we want to study oscillations that come and go, so it can be useful to simulate\noscillations with this property.\n\nYou can simulate bursty oscillations with :func:`~neurodsp.sim.periodic.sim_bursty_oscillation`.\n\nTo control the bursitness of the simulated signal, you can control the probability\nthat a burst will start or stop with each new cycle.\n\n\n"
      ]
    },
    {
      "cell_type": "code",
      "execution_count": null,
      "metadata": {
        "collapsed": false
      },
      "outputs": [],
      "source": [
        "# Settings for simulation\nosc_freq = 30\nn_seconds = 3\nenter_burst = .1\nleave_burst = .1\n\n# Simulate a bursty oscillation\nosc = sim.sim_bursty_oscillation(n_seconds, fs, osc_freq,\n                                 enter_burst=enter_burst,\n                                 leave_burst=leave_burst)\ntimes = create_times(n_seconds, fs)"
      ]
    },
    {
      "cell_type": "code",
      "execution_count": null,
      "metadata": {
        "collapsed": false
      },
      "outputs": [],
      "source": [
        "# Plot the simulated data, in the time domain\nplot_time_series(times, osc, xlim=[0, n_seconds])"
      ]
    },
    {
      "cell_type": "markdown",
      "metadata": {},
      "source": [
        "We can shorten burst duration by increasing the probability to leave bursts.\n\n\n"
      ]
    },
    {
      "cell_type": "code",
      "execution_count": null,
      "metadata": {
        "collapsed": false
      },
      "outputs": [],
      "source": [
        "# Simulate a bursty oscillation, with a specified burst probability\nleave_burst = .4\nosc = sim.sim_bursty_oscillation(n_seconds, fs, osc_freq,\n                                 enter_burst=enter_burst,\n                                 leave_burst=leave_burst)\ntimes = create_times(n_seconds, fs)"
      ]
    },
    {
      "cell_type": "code",
      "execution_count": null,
      "metadata": {
        "collapsed": false
      },
      "outputs": [],
      "source": [
        "# Plot the simulated data, in the time domain\nplot_time_series(times, osc, xlim=[0, n_seconds])"
      ]
    },
    {
      "cell_type": "markdown",
      "metadata": {},
      "source": [
        "We can increase the number of bursts by increasing the probability to enter a burst.\n\n\n"
      ]
    },
    {
      "cell_type": "code",
      "execution_count": null,
      "metadata": {
        "collapsed": false
      },
      "outputs": [],
      "source": [
        "# Simulate a bursty oscillation, with a specified burst probability\nenter_burst = .4\nosc = sim.sim_bursty_oscillation(n_seconds, fs, osc_freq,\n                                 enter_burst=enter_burst,\n                                 leave_burst=leave_burst)\ntimes = create_times(n_seconds, fs)"
      ]
    },
    {
      "cell_type": "code",
      "execution_count": null,
      "metadata": {
        "collapsed": false
      },
      "outputs": [],
      "source": [
        "# Plot the simulated data, in the time domain\nplot_time_series(times, osc, xlim=[0, n_seconds])"
      ]
    },
    {
      "cell_type": "markdown",
      "metadata": {},
      "source": [
        "Sphinx settings:\nsphinx_gallery_thumbnail_number = 1\n\n\n"
      ]
    }
  ],
  "metadata": {
    "kernelspec": {
      "display_name": "Python 3",
      "language": "python",
      "name": "python3"
    },
    "language_info": {
      "codemirror_mode": {
        "name": "ipython",
        "version": 3
      },
      "file_extension": ".py",
      "mimetype": "text/x-python",
      "name": "python",
      "nbconvert_exporter": "python",
      "pygments_lexer": "ipython3",
      "version": "3.7.4"
    }
  },
  "nbformat": 4,
  "nbformat_minor": 0
}