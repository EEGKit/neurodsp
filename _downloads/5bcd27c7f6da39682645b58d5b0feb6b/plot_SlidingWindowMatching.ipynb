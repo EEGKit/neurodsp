{
  "cells": [
    {
      "cell_type": "code",
      "execution_count": null,
      "metadata": {
        "collapsed": false
      },
      "outputs": [],
      "source": [
        "%matplotlib inline"
      ]
    },
    {
      "cell_type": "markdown",
      "metadata": {},
      "source": [
        "\nSliding Window Matching\n=======================\n\nFind recurrent patterns in a neural signal using Sliding Window Matching.\n\nThis tutorial primarily covers ``neurodsp.rhythm.swm``.\n"
      ]
    },
    {
      "cell_type": "markdown",
      "metadata": {},
      "source": [
        "Overview\n--------\n\nThis notebook shows how to use sliding window matching (SWM) for identifying recurring\npatterns in a neural signal, like the shape of an oscillatory waveform.\n\nFor more details on Sliding Window Matching see Gips et al., 2017, J Neuro Methods.\n\n\n"
      ]
    },
    {
      "cell_type": "code",
      "execution_count": null,
      "metadata": {
        "collapsed": false
      },
      "outputs": [],
      "source": [
        "import numpy as np\n\nfrom neurodsp.utils import create_times\nfrom neurodsp.rhythm import sliding_window_matching\nfrom neurodsp.plts.rhythm import plot_swm_pattern\nfrom neurodsp.plts.time_series import plot_time_series"
      ]
    },
    {
      "cell_type": "code",
      "execution_count": null,
      "metadata": {
        "collapsed": false
      },
      "outputs": [],
      "source": [
        "# Set the random seed, for consistency simulating data\nnp.random.seed(0)"
      ]
    },
    {
      "cell_type": "markdown",
      "metadata": {},
      "source": [
        "Load neural signal\n------------------\n\n\n"
      ]
    },
    {
      "cell_type": "code",
      "execution_count": null,
      "metadata": {
        "collapsed": false
      },
      "outputs": [],
      "source": [
        "# Load example data\nsig = np.load('../data/sample_data_1.npy')\nfs = 1000\ntimes = create_times(len(sig)/fs, fs)\nf_range = (13, 30)\n\n# Plot example signal\nplot_time_series(times, sig)"
      ]
    },
    {
      "cell_type": "markdown",
      "metadata": {},
      "source": [
        "Apply sliding window matching to neural signal\n----------------------------------------------\n\nThe loaded neural signal has a beta oscillation, that we can attempt to analyze\nwith the sliding window matching approach.\n\nWe will define the window length to be about 1 cycle, which should roughly extract\nthe waveform shape of the neural oscillation.\n\nSliding window matching can be applied with the\n:func:`~neurodsp.rhythm.swm.sliding_window_matching` function.\n\n\n"
      ]
    },
    {
      "cell_type": "code",
      "execution_count": null,
      "metadata": {
        "collapsed": false
      },
      "outputs": [],
      "source": [
        "# Define window length & minimum window spacing, both in seconds\nwin_len = .055\nwin_spacing = .2\n\n# Apply the sliding window matching algorithm to the time series\navg_window, window_starts, J = sliding_window_matching(sig, fs, win_len, win_spacing,\n                                                       max_iterations=500)"
      ]
    },
    {
      "cell_type": "markdown",
      "metadata": {},
      "source": [
        "You can plot the resulting pattern with :func:`~neurodsp.plts.rhythm.plot_swm_pattern`.\n\n\n"
      ]
    },
    {
      "cell_type": "code",
      "execution_count": null,
      "metadata": {
        "collapsed": false
      },
      "outputs": [],
      "source": [
        "# Plot the discovered pattern\nplot_swm_pattern(avg_window)"
      ]
    },
    {
      "cell_type": "markdown",
      "metadata": {},
      "source": [
        "Notice that the beta cycles have sharper troughs than peaks, and the average window is\na beta cycle with a sharp trough.\n\nOne thing to explore is how these results change by changing the random seed.\n\nUsing more data and increasing the number of iterations helps the robustness of the algorithm.\n\n\n"
      ]
    },
    {
      "cell_type": "markdown",
      "metadata": {},
      "source": [
        "Sphinx settings:\nsphinx_gallery_thumbnail_number = 2\n\n\n"
      ]
    }
  ],
  "metadata": {
    "kernelspec": {
      "display_name": "Python 3",
      "language": "python",
      "name": "python3"
    },
    "language_info": {
      "codemirror_mode": {
        "name": "ipython",
        "version": 3
      },
      "file_extension": ".py",
      "mimetype": "text/x-python",
      "name": "python",
      "nbconvert_exporter": "python",
      "pygments_lexer": "ipython3",
      "version": "3.7.4"
    }
  },
  "nbformat": 4,
  "nbformat_minor": 0
}