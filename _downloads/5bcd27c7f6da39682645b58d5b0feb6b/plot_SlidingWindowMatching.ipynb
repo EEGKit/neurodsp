{
  "cells": [
    {
      "cell_type": "code",
      "execution_count": null,
      "metadata": {
        "collapsed": false
      },
      "outputs": [],
      "source": [
        "%matplotlib inline"
      ]
    },
    {
      "cell_type": "markdown",
      "metadata": {},
      "source": [
        "\nSliding Window Matching\n=======================\n\nFind recurrent patterns in a neural signal using Sliding Window Matching.\n\nThis tutorial primarily covers the :func:`~.sliding_window_matching` function.\n"
      ]
    },
    {
      "cell_type": "markdown",
      "metadata": {},
      "source": [
        "Overview\n--------\n\nThis notebook shows how to use sliding window matching (SWM) for identifying recurring\npatterns in a neural signal, like the shape of an oscillatory waveform.\n\nFor more details on Sliding Window Matching see Gips et al., 2017, J Neuro Methods.\n\n\n"
      ]
    },
    {
      "cell_type": "code",
      "execution_count": null,
      "metadata": {
        "collapsed": false
      },
      "outputs": [],
      "source": [
        "# Import the sliding window matching function\nfrom neurodsp.rhythm import sliding_window_matching\n\n# Import utilities for loading and plotting data\nfrom neurodsp.utils.download import load_ndsp_data\nfrom neurodsp.plts.rhythm import plot_swm_pattern\nfrom neurodsp.plts.time_series import plot_time_series\nfrom neurodsp.utils import set_random_seed, create_times"
      ]
    },
    {
      "cell_type": "code",
      "execution_count": null,
      "metadata": {
        "collapsed": false
      },
      "outputs": [],
      "source": [
        "# Set random seed, for reproducibility\nset_random_seed(0)"
      ]
    },
    {
      "cell_type": "markdown",
      "metadata": {},
      "source": [
        "Load neural signal\n------------------\n\n\n"
      ]
    },
    {
      "cell_type": "code",
      "execution_count": null,
      "metadata": {
        "collapsed": false
      },
      "outputs": [],
      "source": [
        "# Download, if needed, and load example data files\nsig = load_ndsp_data('sample_data_1.npy', folder='data')\n\n# Set sampling rate, and create a times vector for plotting\nfs = 1000\ntimes = create_times(len(sig)/fs, fs)"
      ]
    },
    {
      "cell_type": "code",
      "execution_count": null,
      "metadata": {
        "collapsed": false
      },
      "outputs": [],
      "source": [
        "# Plot example signal\nplot_time_series(times, sig)"
      ]
    },
    {
      "cell_type": "markdown",
      "metadata": {},
      "source": [
        "Apply sliding window matching to neural signal\n----------------------------------------------\n\nThe loaded neural signal has a beta oscillation, that we can attempt to analyze\nwith the sliding window matching approach.\n\nWe will define the window length to be about 1 cycle, which should roughly extract\nthe waveform shape of the neural oscillation.\n\nSliding window matching can be applied with the\n:func:`~.sliding_window_matching` function.\n\n\n"
      ]
    },
    {
      "cell_type": "code",
      "execution_count": null,
      "metadata": {
        "collapsed": false
      },
      "outputs": [],
      "source": [
        "# Define window length & minimum window spacing, both in seconds\nwin_len = .055\nwin_spacing = .2\n\n# Apply the sliding window matching algorithm to the time series\navg_window, window_starts, costs = sliding_window_matching(sig, fs, win_len, win_spacing,\n                                                           max_iterations=500)"
      ]
    },
    {
      "cell_type": "markdown",
      "metadata": {},
      "source": [
        "You can plot the resulting pattern with :func:`~.plot_swm_pattern`.\n\n\n"
      ]
    },
    {
      "cell_type": "code",
      "execution_count": null,
      "metadata": {
        "collapsed": false
      },
      "outputs": [],
      "source": [
        "# Plot the discovered pattern\nplot_swm_pattern(avg_window)"
      ]
    },
    {
      "cell_type": "markdown",
      "metadata": {},
      "source": [
        "Notice that the beta cycles have sharper troughs than peaks, and the average window is\na beta cycle with a sharp trough.\n\nOne thing to explore is how these results change by changing the random seed.\n\nUsing more data and increasing the number of iterations helps the robustness of the algorithm.\n\n\n"
      ]
    }
  ],
  "metadata": {
    "kernelspec": {
      "display_name": "Python 3",
      "language": "python",
      "name": "python3"
    },
    "language_info": {
      "codemirror_mode": {
        "name": "ipython",
        "version": 3
      },
      "file_extension": ".py",
      "mimetype": "text/x-python",
      "name": "python",
      "nbconvert_exporter": "python",
      "pygments_lexer": "ipython3",
      "version": "3.8.2"
    }
  },
  "nbformat": 4,
  "nbformat_minor": 0
}