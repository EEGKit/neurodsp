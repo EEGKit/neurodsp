{
  "cells": [
    {
      "cell_type": "code",
      "execution_count": null,
      "metadata": {
        "collapsed": false
      },
      "outputs": [],
      "source": [
        "%matplotlib inline"
      ]
    },
    {
      "cell_type": "markdown",
      "metadata": {},
      "source": [
        "\nSimulating Aperiodic Signals\n============================\n\nSimulate aperiodic signals.\n\nThis tutorial covers the the ``neurodsp.sim.aperiodic`` module.\n"
      ]
    },
    {
      "cell_type": "code",
      "execution_count": null,
      "metadata": {
        "collapsed": false
      },
      "outputs": [],
      "source": [
        "# Import sim functions\nfrom neurodsp.sim import sim_powerlaw, sim_random_walk, sim_synaptic_current\nfrom neurodsp.utils import set_random_seed\n\n# Import function to compute power spectra\nfrom neurodsp.spectral import compute_spectrum\n\n# Import utilities for plotting data\nfrom neurodsp.utils import create_times\nfrom neurodsp.plts.spectral import plot_power_spectra\nfrom neurodsp.plts.time_series import plot_time_series"
      ]
    },
    {
      "cell_type": "code",
      "execution_count": null,
      "metadata": {
        "collapsed": false
      },
      "outputs": [],
      "source": [
        "# Set the random seed, for consistency simulating data\nset_random_seed(0)\n\n# Set some general settings, to be used across all simulations\nfs = 1000\nn_seconds = 10"
      ]
    },
    {
      "cell_type": "markdown",
      "metadata": {},
      "source": [
        "Simulate 1/f Activity\n---------------------\n\nOften, we want to simulate noise that is comparable to what we see in neural recordings.\n\nNeural signals display 1/f-like activity, whereby power decreases linearly across\nincreasing frequencies, when plotted in log-log.\n\nTo simulate activity with powerlaw distributions, use the\n:func:`~.sim_powerlaw` function.\n\nLet's start with a power law signal, specifically a brown noise process, or a signal\nfor which the power spectrum is distributed as 1/f^2.\n\n\n"
      ]
    },
    {
      "cell_type": "code",
      "execution_count": null,
      "metadata": {
        "collapsed": false
      },
      "outputs": [],
      "source": [
        "# Setting for the simulation\nexponent = -2\n\n# Simulate powerlaw activity, specifically brown noise\ntimes = create_times(n_seconds, fs)\nbr_noise = sim_powerlaw(n_seconds, fs, exponent)"
      ]
    },
    {
      "cell_type": "code",
      "execution_count": null,
      "metadata": {
        "collapsed": false
      },
      "outputs": [],
      "source": [
        "# Plot the simulated data, in the time domain\nplot_time_series(times, br_noise, title='Brown Noise')"
      ]
    },
    {
      "cell_type": "code",
      "execution_count": null,
      "metadata": {
        "collapsed": false
      },
      "outputs": [],
      "source": [
        "# Plot the simulated data, in the frequency domain\nfreqs, psd = compute_spectrum(br_noise, fs)\nplot_power_spectra(freqs, psd)"
      ]
    },
    {
      "cell_type": "markdown",
      "metadata": {},
      "source": [
        "Simulate Filtered 1/f Activity\n------------------------------\n\nThe power law simulation function is also integrated with a filter. This can be useful\nfor filtering out some low frequencies, as is often done with neural signals,\nto remove the very slow drifts that we see in the pure 1/f simulations.\n\nTo filter a simulated power law signal, simply pass in a filter range, and the filter will\nbe applied to the simulated data before being returned. Here we will apply a high-pass filter.\n\nWe can see that the resulting signal has much less low-frequency drift than the first one.\n\n\n"
      ]
    },
    {
      "cell_type": "code",
      "execution_count": null,
      "metadata": {
        "collapsed": false
      },
      "outputs": [],
      "source": [
        "# Simulate highpass-filtered brown noise with a 1Hz cutoff frequency\nf_hipass_brown = 1\nbrown_filt = sim_powerlaw(n_seconds, fs, exponent, f_range=(f_hipass_brown, None))"
      ]
    },
    {
      "cell_type": "code",
      "execution_count": null,
      "metadata": {
        "collapsed": false
      },
      "outputs": [],
      "source": [
        "# Plot the simulated data, in the time domain\nplot_time_series(times, brown_filt, title='High-Passed Brown Noise')"
      ]
    },
    {
      "cell_type": "code",
      "execution_count": null,
      "metadata": {
        "collapsed": false
      },
      "outputs": [],
      "source": [
        "# Plot the simulated data, in the frequency domain\nfreqs, psd = compute_spectrum(brown_filt, fs)\nplot_power_spectra(freqs, psd)"
      ]
    },
    {
      "cell_type": "markdown",
      "metadata": {},
      "source": [
        "Note: the :func:`~.sim_powerlaw` function can simulate arbitrary\npower law exponents, such as pink noise (-1), or any other exponent.\n\n\n"
      ]
    },
    {
      "cell_type": "markdown",
      "metadata": {},
      "source": [
        "Random Walk Activity\n--------------------\n\nWe can also simulate an Ornstein-Uhlenbeck process, which is a random walk process with memory.\n\nWe can do this with the :func:`~.sim_random_walk` function.\n\n\n"
      ]
    },
    {
      "cell_type": "code",
      "execution_count": null,
      "metadata": {
        "collapsed": false
      },
      "outputs": [],
      "source": [
        "# Simulate aperiodic signals from a random walk process\nrw_noise = sim_random_walk(n_seconds, fs)"
      ]
    },
    {
      "cell_type": "code",
      "execution_count": null,
      "metadata": {
        "collapsed": false
      },
      "outputs": [],
      "source": [
        "# Plot the simulated data, in the time domain\nplot_time_series(times, rw_noise, title='Random Walk')"
      ]
    },
    {
      "cell_type": "markdown",
      "metadata": {},
      "source": [
        "Simulate Synaptic Activity\n--------------------------\n\nAnother model for simulating aperiodic, neurally plausible activity, is to simulate\nsynaptic current activity, as a Lorentzian function.\n\nThis is available with the :func:`~.sim_synaptic_current` function.\n\nThe synaptic current model is Poisson activity convolved with exponential kernels\nthat mimic the shape of post-synaptic potentials.\n\nFor more details on the usage of such models for simulating neural signals,\nsee Destexhe et al., 2001 and/or Gao et al., 2017.\n\n\n"
      ]
    },
    {
      "cell_type": "code",
      "execution_count": null,
      "metadata": {
        "collapsed": false
      },
      "outputs": [],
      "source": [
        "# Simulate aperiodic activity from the synaptic kernel model\nsyn_noise = sim_synaptic_current(n_seconds, fs)"
      ]
    },
    {
      "cell_type": "code",
      "execution_count": null,
      "metadata": {
        "collapsed": false
      },
      "outputs": [],
      "source": [
        "# Plot the simulated data, in the time domain\nplot_time_series(times, syn_noise, title='Simulated Synaptic Activity')"
      ]
    },
    {
      "cell_type": "markdown",
      "metadata": {},
      "source": [
        "Both the random walk, and synaptic model produce 1/f scaling in higher frequencies with a\nfixed exponent of -2, as we can see in the power spectra plot below.\n\n\n"
      ]
    },
    {
      "cell_type": "code",
      "execution_count": null,
      "metadata": {
        "collapsed": false
      },
      "outputs": [],
      "source": [
        "# Plot the simulated data, in the frequency domain\nfreqs, rw_psd = compute_spectrum(rw_noise, fs)\nfreqs, syn_psd = compute_spectrum(syn_noise, fs)\n\nplot_power_spectra(freqs, [rw_psd, syn_psd], ['Random Walk', 'Synaptic'])"
      ]
    }
  ],
  "metadata": {
    "kernelspec": {
      "display_name": "Python 3",
      "language": "python",
      "name": "python3"
    },
    "language_info": {
      "codemirror_mode": {
        "name": "ipython",
        "version": 3
      },
      "file_extension": ".py",
      "mimetype": "text/x-python",
      "name": "python",
      "nbconvert_exporter": "python",
      "pygments_lexer": "ipython3",
      "version": "3.8.2"
    }
  },
  "nbformat": 4,
  "nbformat_minor": 0
}