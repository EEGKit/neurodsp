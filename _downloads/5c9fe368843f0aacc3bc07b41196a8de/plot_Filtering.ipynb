{
  "cells": [
    {
      "cell_type": "code",
      "execution_count": null,
      "metadata": {
        "collapsed": false
      },
      "outputs": [],
      "source": [
        "%matplotlib inline"
      ]
    },
    {
      "cell_type": "markdown",
      "metadata": {},
      "source": [
        "\nFiltering\n=========\n\nUsing digital filters on neural signals, including highpass, lowpass, bandpass & bandstop.\n\nThis tutorial primarily covers ``neurodsp.filt``.\n"
      ]
    },
    {
      "cell_type": "markdown",
      "metadata": {},
      "source": [
        "Filtering with NeuroDSP\n-----------------------\n\nThe :func:`~neurodsp.filt.filter.filter_signal` function is the main function for applying\nfiltering using NeuroDSP.\n\nSections\n~~~~~~~~\n\nThis tutorial contains the following sections:\n\n1. Bandpass filter: extract a single oscillation from a signal\n2. Highpass, lowpass, and bandstop filters: remove power in unwanted frequency ranges\n3. Time-frequency resolution trade off: Change the filter length\n4. Infinite-impulse-response (IIR) filter option.\n5. Beta bandpass filter on a neural signal\n\n\n"
      ]
    },
    {
      "cell_type": "code",
      "execution_count": null,
      "metadata": {
        "collapsed": false
      },
      "outputs": [],
      "source": [
        "import numpy as np\n\nfrom neurodsp.filt import filter_signal\nfrom neurodsp.utils import create_times\nfrom neurodsp.plts.time_series import plot_time_series"
      ]
    },
    {
      "cell_type": "code",
      "execution_count": null,
      "metadata": {
        "collapsed": false
      },
      "outputs": [],
      "source": [
        "# Set the random seed, for consistency simulating data\nnp.random.seed(0)"
      ]
    },
    {
      "cell_type": "markdown",
      "metadata": {},
      "source": [
        "1. Bandpass filter\n------------------\n\nExtract signal within a specific frequency range (e.g. theta, 4-8 Hz).\n\n\n"
      ]
    },
    {
      "cell_type": "code",
      "execution_count": null,
      "metadata": {
        "collapsed": false
      },
      "outputs": [],
      "source": [
        "# Generate an oscillation with noise\nfs = 1000\ntimes = create_times(4, 1000)\nsig = np.random.randn(len(times)) + 5*np.sin(times*2*np.pi*6)"
      ]
    },
    {
      "cell_type": "code",
      "execution_count": null,
      "metadata": {
        "collapsed": false
      },
      "outputs": [],
      "source": [
        "# Filter the data, across a frequency band of interest\nf_range = (4, 8)\nsig_filt = filter_signal(sig, fs, 'bandpass', f_range)"
      ]
    },
    {
      "cell_type": "code",
      "execution_count": null,
      "metadata": {
        "collapsed": false
      },
      "outputs": [],
      "source": [
        "# Plot filtered signal\nplot_time_series(times, [sig, sig_filt], ['Raw', 'Filtered'])"
      ]
    },
    {
      "cell_type": "markdown",
      "metadata": {},
      "source": [
        "Notice that the edges of the filtered signal are clipped (no red).\n\nEdge artifact removal is done by default in NeuroDSP filtering, because\nthe signal samples at the edges only experienced part of the filter.\n\nTo bypass this feature, set `remove_edges=False`, but at your own risk!\n\n\n"
      ]
    },
    {
      "cell_type": "markdown",
      "metadata": {},
      "source": [
        "2. Highpass, lowpass, and bandstop filters\n------------------------------------------\n\n2a. Highpass filter\n~~~~~~~~~~~~~~~~~~~\n\nRemove low frequency drift from the data.\n\n\n"
      ]
    },
    {
      "cell_type": "code",
      "execution_count": null,
      "metadata": {
        "collapsed": false
      },
      "outputs": [],
      "source": [
        "# Generate a signal with a low-frequency drift\ntimes = create_times(6, fs)\nsig = np.random.randn(len(times)) + 5 * np.sin(times*2*np.pi*3) + 4 * np.sin(times*2*np.pi*.5)"
      ]
    },
    {
      "cell_type": "code",
      "execution_count": null,
      "metadata": {
        "collapsed": false
      },
      "outputs": [],
      "source": [
        "# Filter the data\nf_range = (2, None)\nsig_filt = filter_signal(sig, fs, 'highpass', f_range)"
      ]
    },
    {
      "cell_type": "code",
      "execution_count": null,
      "metadata": {
        "collapsed": false
      },
      "outputs": [],
      "source": [
        "# Plot filtered signal\nplot_time_series(times, [sig, sig_filt], ['Raw', 'Filtered'])"
      ]
    },
    {
      "cell_type": "markdown",
      "metadata": {},
      "source": [
        "2b. Lowpass filter\n~~~~~~~~~~~~~~~~~~\n\nRemove high frequency activity from the data.\n\n\n"
      ]
    },
    {
      "cell_type": "code",
      "execution_count": null,
      "metadata": {
        "collapsed": false
      },
      "outputs": [],
      "source": [
        "# Generate a signal with a low-frequency drift\ntimes = create_times(6, fs)\nsig = np.random.randn(len(times)) + 5 * np.sin(times*2*np.pi*3) + 4 * np.sin(times*2*np.pi*.5)"
      ]
    },
    {
      "cell_type": "code",
      "execution_count": null,
      "metadata": {
        "collapsed": false
      },
      "outputs": [],
      "source": [
        "# Filter the data\nf_range = (None, 20)\nsig_filt = filter_signal(sig, fs, 'lowpass', f_range)"
      ]
    },
    {
      "cell_type": "code",
      "execution_count": null,
      "metadata": {
        "collapsed": false
      },
      "outputs": [],
      "source": [
        "# Plot filtered signal\nplot_time_series(times, [sig, sig_filt], ['Raw', 'Filtered'])"
      ]
    },
    {
      "cell_type": "markdown",
      "metadata": {},
      "source": [
        "2c. Bandstop filter\n~~~~~~~~~~~~~~~~~~~\n\nNext let's try a bandstop filter, for the example use case of removing 60Hz noise from data.\n\nNotice that it is necessary to set a non-default filter length because\na filter of length 3 cycles of a 58Hz oscillation would not attenuate\nthe 60Hz oscillation much (try this yourself!).\n\n\n"
      ]
    },
    {
      "cell_type": "code",
      "execution_count": null,
      "metadata": {
        "collapsed": false
      },
      "outputs": [],
      "source": [
        "# Generate a signal, with a low frequency oscillation and 60 Hz line noise\ntimes = create_times(8, fs)\nsig = 5 * np.sin(times*2*np.pi*5) + 2 * np.sin(times*2*np.pi*60)"
      ]
    },
    {
      "cell_type": "code",
      "execution_count": null,
      "metadata": {
        "collapsed": false
      },
      "outputs": [],
      "source": [
        "# Filter the data\nf_range = (58, 62)\nsig_filt = filter_signal(sig, fs, 'bandstop', f_range, n_seconds=0.5)"
      ]
    },
    {
      "cell_type": "code",
      "execution_count": null,
      "metadata": {
        "collapsed": false
      },
      "outputs": [],
      "source": [
        "# Plot filtered signal\nplot_time_series(times, [sig, sig_filt], ['Raw', 'Filtered'])"
      ]
    },
    {
      "cell_type": "markdown",
      "metadata": {},
      "source": [
        "You might sometimes see a user warning that warns about the level of attenuation.\n\nYou will see this warning whenever the filter you construct has a frequency response does\nnot hit a certain level of attenuation in the stopband. By default, if it does not go below 20dB.\n\nYou can check filter properties by plotting the frequency response when you apply a filter.\n\n\n"
      ]
    },
    {
      "cell_type": "code",
      "execution_count": null,
      "metadata": {
        "collapsed": false
      },
      "outputs": [],
      "source": [
        "# Apply a short filter. In this case, we won't achieve our desired attenuation\nsig_filt = filter_signal(sig, fs, 'bandstop', f_range, n_seconds=0.25, plot_properties=True)"
      ]
    },
    {
      "cell_type": "code",
      "execution_count": null,
      "metadata": {
        "collapsed": false
      },
      "outputs": [],
      "source": [
        "# This user warning disappears if we elongate the filter\nsig_filt = filter_signal(sig, fs, 'bandstop', f_range, n_seconds=1, plot_properties=True)"
      ]
    },
    {
      "cell_type": "markdown",
      "metadata": {},
      "source": [
        "3. Time-frequency resolution trade off\n--------------------------------------\n\nWith longer filter kernels, we get improved frequency resolution,\nbut worse time resolution.\n\nTwo bandpass filters (one long and one short)\n~~~~~~~~~~~~~~~~~~~~~~~~~~~~~~~~~~~~~~~~~~~~~\n\nNotice that the short filter preserves the start of the oscillation better than the\nlong filter (i.e. better time resolution).\n\nNotice that the long filter correctly removed the 1Hz oscillation, but the short filter\ndid not (i.e. better frequency resolution).\n\n\n"
      ]
    },
    {
      "cell_type": "code",
      "execution_count": null,
      "metadata": {
        "collapsed": false
      },
      "outputs": [],
      "source": [
        "# Generate an oscillation with noise\nfs = 100\ntimes = create_times(3, fs)\nsig = np.random.randn(len(times)) * .3 + 5 * np.sin(times*2*np.pi*6) + 4 * np.sin(times*2*np.pi*1)"
      ]
    },
    {
      "cell_type": "code",
      "execution_count": null,
      "metadata": {
        "collapsed": false
      },
      "outputs": [],
      "source": [
        "# Set the first second to 0\nsig[:fs] = 0\n\n# Define the frequency band of interest\nf_range = (4, 8)"
      ]
    },
    {
      "cell_type": "code",
      "execution_count": null,
      "metadata": {
        "collapsed": false
      },
      "outputs": [],
      "source": [
        "# Filter the data\nsig_filt_short = filter_signal(sig, fs, 'bandpass', f_range, n_seconds=.1)\nsig_filt_long = filter_signal(sig, fs, 'bandpass', f_range, n_seconds=1)"
      ]
    },
    {
      "cell_type": "code",
      "execution_count": null,
      "metadata": {
        "collapsed": false
      },
      "outputs": [],
      "source": [
        "# Plot filtered signal\nplot_time_series(times, [sig, sig_filt_short, sig_filt_long],\n                 ['Raw', 'Short Filter', 'Long Filter'])"
      ]
    },
    {
      "cell_type": "code",
      "execution_count": null,
      "metadata": {
        "collapsed": false
      },
      "outputs": [],
      "source": [
        "# Visualize the kernels and frequency responses\nprint('Short filter')\nsig_filt_short = filter_signal(sig, fs, 'bandpass', f_range, n_seconds=.1,\n                               plot_properties=True)\nprint('\\n\\nLong filter')\nsig_filt_long = filter_signal(sig, fs, 'bandpass', f_range, n_seconds=1,\n                              plot_properties=True)"
      ]
    },
    {
      "cell_type": "markdown",
      "metadata": {},
      "source": [
        "4. Infinite impulse response (IIR) filter option\n------------------------------------------------\n\nSo far, the filters that we've been using are finite impulse response (FIR) filters.\n\nThese filters are nice because we have good control over their properties,\nby manipulating the time-frequency resolution trade off through the filter length.\n\nHowever, sometimes we may not be as concerned with the precise filter properties,\nand so there is a faster option: IIR filters.\n\nWe often use these filters when removing 60 Hz line noise.\n\nHere we apply a 3rd order butterworth filter to remove 60Hz noise.\n\nNotice that some edge artifacts remain.\n\n\n"
      ]
    },
    {
      "cell_type": "code",
      "execution_count": null,
      "metadata": {
        "collapsed": false
      },
      "outputs": [],
      "source": [
        "# Generate a signal with a low-frequency drift\nfs = 1000\ntimes = create_times(2, fs)\nsig = 5 * np.sin(times*2*np.pi*5) + 2 * np.sin(times*2*np.pi*60)"
      ]
    },
    {
      "cell_type": "code",
      "execution_count": null,
      "metadata": {
        "collapsed": false
      },
      "outputs": [],
      "source": [
        "# Low-pass filter the signal at 100Hz, just for fun.\nsig = filter_signal(sig, fs, 'lowpass', f_range=100)"
      ]
    },
    {
      "cell_type": "code",
      "execution_count": null,
      "metadata": {
        "collapsed": false
      },
      "outputs": [],
      "source": [
        "# Filter the data\nf_range = (58, 62)\nsig_filt = filter_signal(sig, fs, 'bandstop', f_range,\n                         filter_type='iir', butterworth_order=3)"
      ]
    },
    {
      "cell_type": "code",
      "execution_count": null,
      "metadata": {
        "collapsed": false
      },
      "outputs": [],
      "source": [
        "# Plot filtered signal\nplot_time_series(times, [sig, sig_filt], ['Raw', 'Filtered'], xlim=[0, 0.2])"
      ]
    },
    {
      "cell_type": "markdown",
      "metadata": {},
      "source": [
        "5. Beta bandpass filter on neural signal\n----------------------------------------\n\n\n"
      ]
    },
    {
      "cell_type": "code",
      "execution_count": null,
      "metadata": {
        "collapsed": false
      },
      "outputs": [],
      "source": [
        "# Generate a signal with a low-frequency drift\nsig = np.load('../data/sample_data_1.npy')\nfs = 1000\ntimes = create_times(len(sig)/fs, fs)"
      ]
    },
    {
      "cell_type": "code",
      "execution_count": null,
      "metadata": {
        "collapsed": false
      },
      "outputs": [],
      "source": [
        "# Filter the data\n# If you want to get rid of the transition band printouts, set verbose=False\nf_range = (13, 30)\nsig_filt, kernel = filter_signal(sig, fs, 'bandpass', f_range, n_cycles=3,\n                                 plot_properties=True, return_filter=True)"
      ]
    },
    {
      "cell_type": "code",
      "execution_count": null,
      "metadata": {
        "collapsed": false
      },
      "outputs": [],
      "source": [
        "# Plot filtered signal\nplot_time_series(times, [sig, sig_filt], ['Raw', 'Filtered'], xlim=[2, 5])"
      ]
    },
    {
      "cell_type": "markdown",
      "metadata": {},
      "source": [
        "Notice that in the filtered time series, the resulting oscillation appears to be\nmore sinusoidal than the original signal really is.\n\nIf you are interested in this problem, and how to deal with it, you should check out\n`bycycle <https://bycycle-tools.github.io/bycycle/>`_,\nwhich is a tool for time-domain analyses of waveform shape.\n\n\n"
      ]
    },
    {
      "cell_type": "markdown",
      "metadata": {},
      "source": [
        "Sphinx settings:\nsphinx_gallery_thumbnail_number = 12\n\n\n"
      ]
    }
  ],
  "metadata": {
    "kernelspec": {
      "display_name": "Python 3",
      "language": "python",
      "name": "python3"
    },
    "language_info": {
      "codemirror_mode": {
        "name": "ipython",
        "version": 3
      },
      "file_extension": ".py",
      "mimetype": "text/x-python",
      "name": "python",
      "nbconvert_exporter": "python",
      "pygments_lexer": "ipython3",
      "version": "3.7.4"
    }
  },
  "nbformat": 4,
  "nbformat_minor": 0
}