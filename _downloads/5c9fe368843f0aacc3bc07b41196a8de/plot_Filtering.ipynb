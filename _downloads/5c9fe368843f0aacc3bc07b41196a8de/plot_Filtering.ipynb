{
  "cells": [
    {
      "cell_type": "code",
      "execution_count": null,
      "metadata": {
        "collapsed": false
      },
      "outputs": [],
      "source": [
        "%matplotlib inline"
      ]
    },
    {
      "cell_type": "markdown",
      "metadata": {},
      "source": [
        "\nFiltering\n=========\n\nUsing digital filters on neural signals, including highpass, lowpass, bandpass & bandstop.\n\nThis tutorial primarily covers ``neurodsp.filt``.\n"
      ]
    },
    {
      "cell_type": "markdown",
      "metadata": {},
      "source": [
        "Filtering with NeuroDSP\n-----------------------\n\nThe :func:`~neurodsp.filt.filter.filter_signal` function is the main function for applying\nfiltering using NeuroDSP.\n\nSections\n~~~~~~~~\n\nThis tutorial contains the following sections:\n\n1. Bandpass filter: extract a single oscillation from a signal\n2. Highpass, lowpass, and bandstop filters: remove power in unwanted frequency ranges\n3. Time-frequency resolution trade off: Change the filter length\n4. Infinite-impulse-response (IIR) filter option.\n5. Beta bandpass filter on a neural signal\n\n\n"
      ]
    },
    {
      "cell_type": "code",
      "execution_count": null,
      "metadata": {
        "collapsed": false
      },
      "outputs": [],
      "source": [
        "import numpy as np\n\nfrom neurodsp.filt import filter_signal\n\nfrom neurodsp.sim import sim_combined\nfrom neurodsp.utils import create_times\n\nfrom neurodsp.plts.time_series import plot_time_series"
      ]
    },
    {
      "cell_type": "code",
      "execution_count": null,
      "metadata": {
        "collapsed": false
      },
      "outputs": [],
      "source": [
        "# Set the random seed, for consistency simulating data\nnp.random.seed(0)"
      ]
    },
    {
      "cell_type": "code",
      "execution_count": null,
      "metadata": {
        "collapsed": false
      },
      "outputs": [],
      "source": [
        "# General setting for simulations\nfs = 1000\nn_seconds = 5\n\n# Generate a times vector, for plotting\ntimes = create_times(n_seconds, fs)"
      ]
    },
    {
      "cell_type": "markdown",
      "metadata": {},
      "source": [
        "1. Bandpass filter\n------------------\n\nExtract signal within a specific frequency range (e.g. theta, 4-8 Hz).\n\n\n"
      ]
    },
    {
      "cell_type": "code",
      "execution_count": null,
      "metadata": {
        "collapsed": false
      },
      "outputs": [],
      "source": [
        "# Set the frequency in our simulated signal\nfreq = 6\n\n# Set up simulation for a signal with an oscillaton + noise\ncomponents = {'sim_powerlaw' : {'exponent' : 0},\n              'sim_oscillation' : {'freq' : 6}}\nvariances = [0.1, 1]\n\n# Simulate our signal\nsig = sim_combined(n_seconds, fs, components, variances)"
      ]
    },
    {
      "cell_type": "code",
      "execution_count": null,
      "metadata": {
        "collapsed": false
      },
      "outputs": [],
      "source": [
        "# Define a frequency range to filter the data\nf_range = (4, 8)\n\n# Bandpass filter the data, across the band of interest\nsig_filt = filter_signal(sig, fs, 'bandpass', f_range)"
      ]
    },
    {
      "cell_type": "code",
      "execution_count": null,
      "metadata": {
        "collapsed": false
      },
      "outputs": [],
      "source": [
        "# Plot filtered signal\nplot_time_series(times, [sig, sig_filt], ['Raw', 'Filtered'])"
      ]
    },
    {
      "cell_type": "markdown",
      "metadata": {},
      "source": [
        "Notice that the edges of the filtered signal are clipped (no red).\n\nEdge artifact removal is done by default in NeuroDSP filtering, because\nthe signal samples at the edges only experienced part of the filter.\n\nTo bypass this feature, set `remove_edges=False`, but at your own risk!\n\n\n"
      ]
    },
    {
      "cell_type": "markdown",
      "metadata": {},
      "source": [
        "2. Highpass, lowpass, and bandstop filters\n------------------------------------------\n\n2a. Highpass filter\n~~~~~~~~~~~~~~~~~~~\n\nRemove low frequency drift from the data.\n\n\n"
      ]
    },
    {
      "cell_type": "code",
      "execution_count": null,
      "metadata": {
        "collapsed": false
      },
      "outputs": [],
      "source": [
        "# Settings for the rhythmic components in the data\nfreq1 = 3\nfreq2 = 0.5\n\n# Set up simulation for a signal with an oscillaton + noise + low frequency activity\ncomponents = {'sim_powerlaw' : {'exponent' : 0},\n              'sim_oscillation' : [{'freq' : freq1}, {'freq' : freq2}]}\nvariances = [0.1, 1, 1]\n\n# Generate a signal including low-frequency activty\nsig = sim_combined(n_seconds, fs, components, variances)"
      ]
    },
    {
      "cell_type": "code",
      "execution_count": null,
      "metadata": {
        "collapsed": false
      },
      "outputs": [],
      "source": [
        "# Filter the data\nf_range = (2, None)\nsig_filt = filter_signal(sig, fs, 'highpass', f_range)"
      ]
    },
    {
      "cell_type": "code",
      "execution_count": null,
      "metadata": {
        "collapsed": false
      },
      "outputs": [],
      "source": [
        "# Plot filtered signal\nplot_time_series(times, [sig, sig_filt], ['Raw', 'Filtered'])"
      ]
    },
    {
      "cell_type": "markdown",
      "metadata": {},
      "source": [
        "2b. Lowpass filter\n~~~~~~~~~~~~~~~~~~\n\nRemove high frequency activity from the data.\n\n\n"
      ]
    },
    {
      "cell_type": "code",
      "execution_count": null,
      "metadata": {
        "collapsed": false
      },
      "outputs": [],
      "source": [
        "# Filter the data\nf_range = (None, 20)\nsig_filt = filter_signal(sig, fs, 'lowpass', f_range)"
      ]
    },
    {
      "cell_type": "code",
      "execution_count": null,
      "metadata": {
        "collapsed": false
      },
      "outputs": [],
      "source": [
        "# Plot filtered signal\nplot_time_series(times, [sig, sig_filt], ['Raw', 'Filtered'])"
      ]
    },
    {
      "cell_type": "markdown",
      "metadata": {},
      "source": [
        "2c. Bandstop filter\n~~~~~~~~~~~~~~~~~~~\n\nNext let's try a bandstop filter, for the example use case of removing 60Hz noise from data.\n\nNotice that it is necessary to set a non-default filter length because\na filter of length 3 cycles of a 58Hz oscillation would not attenuate\nthe 60Hz oscillation much (try this yourself!).\n\n\n"
      ]
    },
    {
      "cell_type": "code",
      "execution_count": null,
      "metadata": {
        "collapsed": false
      },
      "outputs": [],
      "source": [
        "# Generate a signal, with a low frequency oscillation and 60 Hz line noise\ncomponents = {'sim_oscillation' : [{'freq' : 6}, {'freq' : 60}]}\nvariances = [1, 0.2]\nsig = sim_combined(n_seconds, fs, components, variances)"
      ]
    },
    {
      "cell_type": "code",
      "execution_count": null,
      "metadata": {
        "collapsed": false
      },
      "outputs": [],
      "source": [
        "# Filter the data\nf_range = (58, 62)\nsig_filt = filter_signal(sig, fs, 'bandstop', f_range, n_seconds=0.5)"
      ]
    },
    {
      "cell_type": "code",
      "execution_count": null,
      "metadata": {
        "collapsed": false
      },
      "outputs": [],
      "source": [
        "# Plot filtered signal\nplot_time_series(times, [sig, sig_filt], ['Raw', 'Filtered'])"
      ]
    },
    {
      "cell_type": "markdown",
      "metadata": {},
      "source": [
        "You might sometimes see a user warning that warns about the level of attenuation.\n\nYou will see this warning whenever the filter you construct has a frequency response does\nnot hit a certain level of attenuation in the stopband. By default, if it does not go below 20dB.\n\nYou can check filter properties by plotting the frequency response when you apply a filter.\n\n\n"
      ]
    },
    {
      "cell_type": "code",
      "execution_count": null,
      "metadata": {
        "collapsed": false
      },
      "outputs": [],
      "source": [
        "# Apply a short filter. In this case, we won't achieve our desired attenuation\nsig_filt = filter_signal(sig, fs, 'bandstop', f_range, n_seconds=0.25, plot_properties=True)"
      ]
    },
    {
      "cell_type": "code",
      "execution_count": null,
      "metadata": {
        "collapsed": false
      },
      "outputs": [],
      "source": [
        "# This user warning disappears if we elongate the filter\nsig_filt = filter_signal(sig, fs, 'bandstop', f_range, n_seconds=1, plot_properties=True)"
      ]
    },
    {
      "cell_type": "markdown",
      "metadata": {},
      "source": [
        "3. Time-frequency resolution trade off\n--------------------------------------\n\nWith longer filter kernels, we get improved frequency resolution,\nbut worse time resolution.\n\nTwo bandpass filters (one long and one short)\n~~~~~~~~~~~~~~~~~~~~~~~~~~~~~~~~~~~~~~~~~~~~~\n\nNotice that the short filter preserves the start of the oscillation better than the\nlong filter (i.e. better time resolution).\n\nNotice that the long filter correctly removed the 1Hz oscillation, but the short filter\ndid not (i.e. better frequency resolution).\n\n\n"
      ]
    },
    {
      "cell_type": "code",
      "execution_count": null,
      "metadata": {
        "collapsed": false
      },
      "outputs": [],
      "source": [
        "# Reset simulation settings for this example\nfs = 100\nn_seconds = 3\ntimes = create_times(n_seconds, fs)\n\n# Generate a signal with an oscillation, noise, and a low frequency oscillation\ncomponents = {'sim_powerlaw' : {'exponent' : 0},\n              'sim_oscillation' : [{'freq' : 6}, {'freq' : 1}]}\nvariances = [0.1, 1, 1]\nsig = sim_combined(n_seconds, fs, components, variances)\n\n# Set the first second to 0\nsig[:fs] = 0"
      ]
    },
    {
      "cell_type": "code",
      "execution_count": null,
      "metadata": {
        "collapsed": false
      },
      "outputs": [],
      "source": [
        "# Define the frequency band of interest\nf_range = (4, 8)\n\n# Filter the data\nsig_filt_short = filter_signal(sig, fs, 'bandpass', f_range, n_seconds=.1)\nsig_filt_long = filter_signal(sig, fs, 'bandpass', f_range, n_seconds=1)"
      ]
    },
    {
      "cell_type": "code",
      "execution_count": null,
      "metadata": {
        "collapsed": false
      },
      "outputs": [],
      "source": [
        "# Plot filtered signal\nplot_time_series(times, [sig, sig_filt_short, sig_filt_long],\n                 ['Raw', 'Short Filter', 'Long Filter'])"
      ]
    },
    {
      "cell_type": "code",
      "execution_count": null,
      "metadata": {
        "collapsed": false
      },
      "outputs": [],
      "source": [
        "# Visualize the kernels and frequency responses\nprint('Short filter')\nsig_filt_short = filter_signal(sig, fs, 'bandpass', f_range, n_seconds=.1,\n                               plot_properties=True)\nprint('\\n\\nLong filter')\nsig_filt_long = filter_signal(sig, fs, 'bandpass', f_range, n_seconds=1,\n                              plot_properties=True)"
      ]
    },
    {
      "cell_type": "markdown",
      "metadata": {},
      "source": [
        "4. Infinite impulse response (IIR) filter option\n------------------------------------------------\n\nSo far, the filters that we've been using are finite impulse response (FIR) filters.\n\nThese filters are nice because we have good control over their properties,\nby manipulating the time-frequency resolution trade off through the filter length.\n\nHowever, sometimes we may not be as concerned with the precise filter properties,\nand so there is a faster option: IIR filters.\n\nWe often use these filters when removing 60 Hz line noise.\n\nHere we apply a 3rd order butterworth filter to remove 60Hz noise.\n\nNotice that some edge artifacts remain.\n\n\n"
      ]
    },
    {
      "cell_type": "code",
      "execution_count": null,
      "metadata": {
        "collapsed": false
      },
      "outputs": [],
      "source": [
        "# Reset simulation settings\nn_seconds = 1\nfs = 1000\ntimes = create_times(n_seconds, fs)\n\n# Generate a signal, with a low frequency oscillation and 60 Hz line noise\ncomponents = {'sim_oscillation' : [{'freq' : 6}, {'freq' : 60}]}\nvariances = [1, 0.2]\nsig = sim_combined(n_seconds, fs, components, variances)"
      ]
    },
    {
      "cell_type": "code",
      "execution_count": null,
      "metadata": {
        "collapsed": false
      },
      "outputs": [],
      "source": [
        "# Filter the data\nf_range = (58, 62)\nsig_filt = filter_signal(sig, fs, 'bandstop', f_range,\n                         filter_type='iir', butterworth_order=3)"
      ]
    },
    {
      "cell_type": "code",
      "execution_count": null,
      "metadata": {
        "collapsed": false
      },
      "outputs": [],
      "source": [
        "# Plot filtered signal\nplot_time_series(times, [sig, sig_filt], ['Raw', 'Filtered'])"
      ]
    },
    {
      "cell_type": "markdown",
      "metadata": {},
      "source": [
        "5. Beta bandpass filter on neural signal\n----------------------------------------\n\n\n"
      ]
    },
    {
      "cell_type": "code",
      "execution_count": null,
      "metadata": {
        "collapsed": false
      },
      "outputs": [],
      "source": [
        "# Generate a signal with a low-frequency drift\nsig = np.load('../data/sample_data_1.npy')\nfs = 1000\ntimes = create_times(len(sig)/fs, fs)"
      ]
    },
    {
      "cell_type": "code",
      "execution_count": null,
      "metadata": {
        "collapsed": false
      },
      "outputs": [],
      "source": [
        "# Filter the data\nf_range = (13, 30)\nsig_filt, kernel = filter_signal(sig, fs, 'bandpass', f_range, n_cycles=3,\n                                 plot_properties=True, return_filter=True)"
      ]
    },
    {
      "cell_type": "code",
      "execution_count": null,
      "metadata": {
        "collapsed": false
      },
      "outputs": [],
      "source": [
        "# Plot filtered signal\nplot_time_series(times, [sig, sig_filt], ['Raw', 'Filtered'], xlim=[2, 5])"
      ]
    },
    {
      "cell_type": "markdown",
      "metadata": {},
      "source": [
        "Notice that in the filtered time series, the resulting oscillation appears to be\nmore sinusoidal than the original signal really is.\n\nIf you are interested in this problem, and how to deal with it, you should check out\n`bycycle <https://bycycle-tools.github.io/bycycle/>`_,\nwhich is a tool for time-domain analyses of waveform shape.\n\n\n"
      ]
    },
    {
      "cell_type": "markdown",
      "metadata": {},
      "source": [
        "Sphinx settings:\nsphinx_gallery_thumbnail_number = 12\n\n\n"
      ]
    }
  ],
  "metadata": {
    "kernelspec": {
      "display_name": "Python 3",
      "language": "python",
      "name": "python3"
    },
    "language_info": {
      "codemirror_mode": {
        "name": "ipython",
        "version": 3
      },
      "file_extension": ".py",
      "mimetype": "text/x-python",
      "name": "python",
      "nbconvert_exporter": "python",
      "pygments_lexer": "ipython3",
      "version": "3.7.4"
    }
  },
  "nbformat": 4,
  "nbformat_minor": 0
}